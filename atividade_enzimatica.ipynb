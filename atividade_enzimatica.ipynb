{
 "cells": [
  {
   "cell_type": "markdown",
   "id": "b1cf4038-0aa5-49cd-be0c-9732137e2971",
   "metadata": {},
   "source": [
    "# Atividade Enzimática"
   ]
  },
  {
   "cell_type": "code",
   "execution_count": 302,
   "id": "58c8c7b7-e27d-4ba7-9389-2d3016b94529",
   "metadata": {},
   "outputs": [],
   "source": [
    "import pandas as pd\n",
    "import dataframe_image as dfi\n",
    "import numpy as np\n",
    "from sklearn.linear_model import LinearRegression\n",
    "import matplotlib.pyplot as plt\n",
    "from lmfit import Model"
   ]
  },
  {
   "cell_type": "code",
   "execution_count": 303,
   "id": "7d4f3b58-db46-4553-a7f5-802587c9c705",
   "metadata": {},
   "outputs": [],
   "source": [
    "# importanto o dataframe\n",
    "\n",
    "# Código para ler o arquivo em xls e retorná-lo em dataframe\n",
    "df_AMP = pd.read_excel(\"1. Dados-curva-padrao-AMP (1).xlsx\")\n",
    "\n",
    "df_Km_Ala = pd.read_excel(\"2. Dados-curva-Km-Ala (1).xlsx\")\n",
    "\n",
    "df_ATP = pd.read_excel(\"3. Dados-cinética-ATP (1).xlsx\")"
   ]
  },
  {
   "cell_type": "code",
   "execution_count": 304,
   "id": "99ff92fa-3fa8-45f7-9ea1-b4c73614e663",
   "metadata": {},
   "outputs": [
    {
     "data": {
      "text/html": [
       "<div>\n",
       "<style scoped>\n",
       "    .dataframe tbody tr th:only-of-type {\n",
       "        vertical-align: middle;\n",
       "    }\n",
       "\n",
       "    .dataframe tbody tr th {\n",
       "        vertical-align: top;\n",
       "    }\n",
       "\n",
       "    .dataframe thead th {\n",
       "        text-align: right;\n",
       "    }\n",
       "</style>\n",
       "<table border=\"1\" class=\"dataframe\">\n",
       "  <thead>\n",
       "    <tr style=\"text-align: right;\">\n",
       "      <th></th>\n",
       "      <th>Concentração AMP (µM)</th>\n",
       "      <th>Replica 1</th>\n",
       "      <th>Replica 2</th>\n",
       "      <th>Replica 3</th>\n",
       "      <th>Replica 4</th>\n",
       "    </tr>\n",
       "  </thead>\n",
       "  <tbody>\n",
       "    <tr>\n",
       "      <th>0</th>\n",
       "      <td>25.0000</td>\n",
       "      <td>146730</td>\n",
       "      <td>148928</td>\n",
       "      <td>153937</td>\n",
       "      <td>150594</td>\n",
       "    </tr>\n",
       "    <tr>\n",
       "      <th>1</th>\n",
       "      <td>12.5000</td>\n",
       "      <td>82684</td>\n",
       "      <td>81266</td>\n",
       "      <td>81582</td>\n",
       "      <td>81663</td>\n",
       "    </tr>\n",
       "    <tr>\n",
       "      <th>2</th>\n",
       "      <td>6.2500</td>\n",
       "      <td>48887</td>\n",
       "      <td>47797</td>\n",
       "      <td>48629</td>\n",
       "      <td>48095</td>\n",
       "    </tr>\n",
       "    <tr>\n",
       "      <th>3</th>\n",
       "      <td>3.1250</td>\n",
       "      <td>32449</td>\n",
       "      <td>30850</td>\n",
       "      <td>31196</td>\n",
       "      <td>31301</td>\n",
       "    </tr>\n",
       "    <tr>\n",
       "      <th>4</th>\n",
       "      <td>1.5625</td>\n",
       "      <td>23533</td>\n",
       "      <td>23183</td>\n",
       "      <td>23779</td>\n",
       "      <td>22948</td>\n",
       "    </tr>\n",
       "  </tbody>\n",
       "</table>\n",
       "</div>"
      ],
      "text/plain": [
       "   Concentração AMP (µM)  Replica 1  Replica 2  Replica 3  Replica 4\n",
       "0                25.0000     146730     148928     153937     150594\n",
       "1                12.5000      82684      81266      81582      81663\n",
       "2                 6.2500      48887      47797      48629      48095\n",
       "3                 3.1250      32449      30850      31196      31301\n",
       "4                 1.5625      23533      23183      23779      22948"
      ]
     },
     "execution_count": 304,
     "metadata": {},
     "output_type": "execute_result"
    }
   ],
   "source": [
    "df_AMP.head()"
   ]
  },
  {
   "cell_type": "code",
   "execution_count": 305,
   "id": "4be639bf-bf27-42a9-b5c3-6a904849829e",
   "metadata": {},
   "outputs": [
    {
     "data": {
      "text/html": [
       "<div>\n",
       "<style scoped>\n",
       "    .dataframe tbody tr th:only-of-type {\n",
       "        vertical-align: middle;\n",
       "    }\n",
       "\n",
       "    .dataframe tbody tr th {\n",
       "        vertical-align: top;\n",
       "    }\n",
       "\n",
       "    .dataframe thead th {\n",
       "        text-align: right;\n",
       "    }\n",
       "</style>\n",
       "<table border=\"1\" class=\"dataframe\">\n",
       "  <thead>\n",
       "    <tr style=\"text-align: right;\">\n",
       "      <th></th>\n",
       "      <th>[L-Ala] (mM)</th>\n",
       "      <th>v1</th>\n",
       "      <th>v2</th>\n",
       "      <th>v3</th>\n",
       "      <th>v4</th>\n",
       "    </tr>\n",
       "  </thead>\n",
       "  <tbody>\n",
       "    <tr>\n",
       "      <th>0</th>\n",
       "      <td>500.00</td>\n",
       "      <td>7106</td>\n",
       "      <td>6801</td>\n",
       "      <td>7479</td>\n",
       "      <td>6697</td>\n",
       "    </tr>\n",
       "    <tr>\n",
       "      <th>1</th>\n",
       "      <td>250.00</td>\n",
       "      <td>5597</td>\n",
       "      <td>4881</td>\n",
       "      <td>5615</td>\n",
       "      <td>5016</td>\n",
       "    </tr>\n",
       "    <tr>\n",
       "      <th>2</th>\n",
       "      <td>125.00</td>\n",
       "      <td>3556</td>\n",
       "      <td>3653</td>\n",
       "      <td>3898</td>\n",
       "      <td>3339</td>\n",
       "    </tr>\n",
       "    <tr>\n",
       "      <th>3</th>\n",
       "      <td>62.50</td>\n",
       "      <td>2200</td>\n",
       "      <td>2110</td>\n",
       "      <td>2270</td>\n",
       "      <td>2223</td>\n",
       "    </tr>\n",
       "    <tr>\n",
       "      <th>4</th>\n",
       "      <td>31.25</td>\n",
       "      <td>1240</td>\n",
       "      <td>1238</td>\n",
       "      <td>1263</td>\n",
       "      <td>1189</td>\n",
       "    </tr>\n",
       "  </tbody>\n",
       "</table>\n",
       "</div>"
      ],
      "text/plain": [
       "   [L-Ala] (mM)    v1    v2    v3    v4\n",
       "0        500.00  7106  6801  7479  6697\n",
       "1        250.00  5597  4881  5615  5016\n",
       "2        125.00  3556  3653  3898  3339\n",
       "3         62.50  2200  2110  2270  2223\n",
       "4         31.25  1240  1238  1263  1189"
      ]
     },
     "execution_count": 305,
     "metadata": {},
     "output_type": "execute_result"
    }
   ],
   "source": [
    "df_Km_Ala.head()"
   ]
  },
  {
   "cell_type": "code",
   "execution_count": 306,
   "id": "9a9ac13c-ceaf-4ac4-8cc3-73b59c6cc316",
   "metadata": {},
   "outputs": [
    {
     "data": {
      "text/html": [
       "<div>\n",
       "<style scoped>\n",
       "    .dataframe tbody tr th:only-of-type {\n",
       "        vertical-align: middle;\n",
       "    }\n",
       "\n",
       "    .dataframe tbody tr th {\n",
       "        vertical-align: top;\n",
       "    }\n",
       "\n",
       "    .dataframe thead th {\n",
       "        text-align: right;\n",
       "    }\n",
       "</style>\n",
       "<table border=\"1\" class=\"dataframe\">\n",
       "  <thead>\n",
       "    <tr style=\"text-align: right;\">\n",
       "      <th></th>\n",
       "      <th>[ATP] (mM)</th>\n",
       "      <th>v1</th>\n",
       "      <th>v2</th>\n",
       "      <th>v3</th>\n",
       "      <th>v4</th>\n",
       "      <th>Blank</th>\n",
       "    </tr>\n",
       "  </thead>\n",
       "  <tbody>\n",
       "    <tr>\n",
       "      <th>0</th>\n",
       "      <td>2.000</td>\n",
       "      <td>6018.0</td>\n",
       "      <td>4761.0</td>\n",
       "      <td>5452.0</td>\n",
       "      <td>4835.0</td>\n",
       "      <td>524.0</td>\n",
       "    </tr>\n",
       "    <tr>\n",
       "      <th>1</th>\n",
       "      <td>1.000</td>\n",
       "      <td>5568.0</td>\n",
       "      <td>4500.0</td>\n",
       "      <td>5166.0</td>\n",
       "      <td>5086.0</td>\n",
       "      <td>212.0</td>\n",
       "    </tr>\n",
       "    <tr>\n",
       "      <th>2</th>\n",
       "      <td>0.500</td>\n",
       "      <td>3600.0</td>\n",
       "      <td>3304.0</td>\n",
       "      <td>3588.0</td>\n",
       "      <td>3395.0</td>\n",
       "      <td>60.0</td>\n",
       "    </tr>\n",
       "    <tr>\n",
       "      <th>3</th>\n",
       "      <td>0.250</td>\n",
       "      <td>1004.0</td>\n",
       "      <td>911.0</td>\n",
       "      <td>1069.0</td>\n",
       "      <td>1026.0</td>\n",
       "      <td>24.0</td>\n",
       "    </tr>\n",
       "    <tr>\n",
       "      <th>4</th>\n",
       "      <td>0.125</td>\n",
       "      <td>321.0</td>\n",
       "      <td>326.0</td>\n",
       "      <td>339.0</td>\n",
       "      <td>305.0</td>\n",
       "      <td>5.0</td>\n",
       "    </tr>\n",
       "  </tbody>\n",
       "</table>\n",
       "</div>"
      ],
      "text/plain": [
       "   [ATP] (mM)      v1      v2      v3      v4  Blank\n",
       "0       2.000  6018.0  4761.0  5452.0  4835.0  524.0\n",
       "1       1.000  5568.0  4500.0  5166.0  5086.0  212.0\n",
       "2       0.500  3600.0  3304.0  3588.0  3395.0   60.0\n",
       "3       0.250  1004.0   911.0  1069.0  1026.0   24.0\n",
       "4       0.125   321.0   326.0   339.0   305.0    5.0"
      ]
     },
     "execution_count": 306,
     "metadata": {},
     "output_type": "execute_result"
    }
   ],
   "source": [
    "df_ATP.head()"
   ]
  },
  {
   "cell_type": "markdown",
   "id": "dead12cd-8638-4856-afa0-f9dee53fdd1b",
   "metadata": {
    "tags": []
   },
   "source": [
    "## Atividade 1"
   ]
  },
  {
   "cell_type": "code",
   "execution_count": 307,
   "id": "b22d2cb4-0e33-45aa-ae4b-fa547f09c5e7",
   "metadata": {},
   "outputs": [],
   "source": [
    "df_AMP[\"Média ABS\"] = (df_AMP[\"Replica 1\"] + df_AMP[\"Replica 2\"] + df_AMP[\"Replica 3\"] + df_AMP[\"Replica 4\"])/4\n",
    "\n",
    "branco = df_AMP.loc[7][\"Média ABS\"]\n",
    "\n",
    "df_AMP[\"Média ABS sem branco\"] = df_AMP[\"Média ABS\"] - branco"
   ]
  },
  {
   "cell_type": "code",
   "execution_count": 308,
   "id": "db53bf43-cf85-4e79-98e8-5194750b0bd2",
   "metadata": {},
   "outputs": [
    {
     "data": {
      "text/html": [
       "<div>\n",
       "<style scoped>\n",
       "    .dataframe tbody tr th:only-of-type {\n",
       "        vertical-align: middle;\n",
       "    }\n",
       "\n",
       "    .dataframe tbody tr th {\n",
       "        vertical-align: top;\n",
       "    }\n",
       "\n",
       "    .dataframe thead th {\n",
       "        text-align: right;\n",
       "    }\n",
       "</style>\n",
       "<table border=\"1\" class=\"dataframe\">\n",
       "  <thead>\n",
       "    <tr style=\"text-align: right;\">\n",
       "      <th></th>\n",
       "      <th>Concentração AMP (µM)</th>\n",
       "      <th>Replica 1</th>\n",
       "      <th>Replica 2</th>\n",
       "      <th>Replica 3</th>\n",
       "      <th>Replica 4</th>\n",
       "      <th>Média ABS</th>\n",
       "      <th>Média ABS sem branco</th>\n",
       "    </tr>\n",
       "  </thead>\n",
       "  <tbody>\n",
       "    <tr>\n",
       "      <th>0</th>\n",
       "      <td>25.0000</td>\n",
       "      <td>146730</td>\n",
       "      <td>148928</td>\n",
       "      <td>153937</td>\n",
       "      <td>150594</td>\n",
       "      <td>150047.25</td>\n",
       "      <td>135654.25</td>\n",
       "    </tr>\n",
       "    <tr>\n",
       "      <th>1</th>\n",
       "      <td>12.5000</td>\n",
       "      <td>82684</td>\n",
       "      <td>81266</td>\n",
       "      <td>81582</td>\n",
       "      <td>81663</td>\n",
       "      <td>81798.75</td>\n",
       "      <td>67405.75</td>\n",
       "    </tr>\n",
       "    <tr>\n",
       "      <th>2</th>\n",
       "      <td>6.2500</td>\n",
       "      <td>48887</td>\n",
       "      <td>47797</td>\n",
       "      <td>48629</td>\n",
       "      <td>48095</td>\n",
       "      <td>48352.00</td>\n",
       "      <td>33959.00</td>\n",
       "    </tr>\n",
       "    <tr>\n",
       "      <th>3</th>\n",
       "      <td>3.1250</td>\n",
       "      <td>32449</td>\n",
       "      <td>30850</td>\n",
       "      <td>31196</td>\n",
       "      <td>31301</td>\n",
       "      <td>31449.00</td>\n",
       "      <td>17056.00</td>\n",
       "    </tr>\n",
       "    <tr>\n",
       "      <th>4</th>\n",
       "      <td>1.5625</td>\n",
       "      <td>23533</td>\n",
       "      <td>23183</td>\n",
       "      <td>23779</td>\n",
       "      <td>22948</td>\n",
       "      <td>23360.75</td>\n",
       "      <td>8967.75</td>\n",
       "    </tr>\n",
       "  </tbody>\n",
       "</table>\n",
       "</div>"
      ],
      "text/plain": [
       "   Concentração AMP (µM)  Replica 1  Replica 2  Replica 3  Replica 4  \\\n",
       "0                25.0000     146730     148928     153937     150594   \n",
       "1                12.5000      82684      81266      81582      81663   \n",
       "2                 6.2500      48887      47797      48629      48095   \n",
       "3                 3.1250      32449      30850      31196      31301   \n",
       "4                 1.5625      23533      23183      23779      22948   \n",
       "\n",
       "   Média ABS  Média ABS sem branco  \n",
       "0  150047.25             135654.25  \n",
       "1   81798.75              67405.75  \n",
       "2   48352.00              33959.00  \n",
       "3   31449.00              17056.00  \n",
       "4   23360.75               8967.75  "
      ]
     },
     "execution_count": 308,
     "metadata": {},
     "output_type": "execute_result"
    }
   ],
   "source": [
    "df_AMP.head()"
   ]
  },
  {
   "cell_type": "code",
   "execution_count": 309,
   "id": "48a40ab0-6c51-41a4-9274-43a9e87a27be",
   "metadata": {},
   "outputs": [],
   "source": [
    "#df_styled = df_AMP.style.background_gradient()\n",
    "#dfi.export(df_styled, \"df_AMP.png\")"
   ]
  },
  {
   "cell_type": "code",
   "execution_count": 310,
   "id": "d168ea55-ae33-4362-a791-640a8435124f",
   "metadata": {},
   "outputs": [
    {
     "name": "stdout",
     "output_type": "stream",
     "text": [
      "coefficient of determination: 0.9999750500710823\n",
      "intercept: 135.45391705071233\n",
      "slope: [5413.65152582]\n"
     ]
    }
   ],
   "source": [
    "x = np.array(list(df_AMP[\"Concentração AMP (µM)\"])).reshape((-1, 1))\n",
    "y = np.array(list(df_AMP[\"Média ABS sem branco\"]))\n",
    "\n",
    "model = LinearRegression()\n",
    "\n",
    "model.fit(x, y)\n",
    "\n",
    "model = LinearRegression().fit(x, y)\n",
    "\n",
    "r_sq = model.score(x, y)\n",
    "print(f\"coefficient of determination: {r_sq}\")\n",
    "\n",
    "print(f\"intercept: {model.intercept_}\")\n",
    "\n",
    "print(f\"slope: {model.coef_}\")\n",
    "\n",
    "a = model.coef_[0]\n",
    "\n",
    "b = model.intercept_"
   ]
  },
  {
   "cell_type": "code",
   "execution_count": 311,
   "id": "48038a88-4de0-4d91-b1d7-7bbb33c1be63",
   "metadata": {},
   "outputs": [
    {
     "data": {
      "image/png": "[encoded data removed]",
      "text/plain": [
       "<Figure size 432x288 with 1 Axes>"
      ]
     },
     "metadata": {
      "needs_background": "light"
     },
     "output_type": "display_data"
    }
   ],
   "source": [
    "def ABS(AMP):\n",
    "    return b + a*AMP\n",
    "\n",
    "AMP = np.linspace(0, 25, 100)\n",
    "\n",
    "fig1 = plt.figure()\n",
    "ax1 = fig1.add_subplot(111)\n",
    "plt.plot(AMP, ABS(AMP), color='black')\n",
    "df_AMP.plot('Concentração AMP (µM)','Média ABS sem branco',legend=True, ax=ax1, kind = 'scatter', linewidth = 2.5, color = 'blue')\n",
    "#plt.title('Curva de calibração do AMP')\n",
    "plt.xlabel('[AMP] (µM)')\n",
    "plt.ylabel('RFU')\n",
    "plt.savefig('reg_AMP.png', dpi=100, format='png', facecolor='white')\n",
    "plt.show()"
   ]
  },
  {
   "cell_type": "code",
   "execution_count": 312,
   "id": "3a542d82-8435-4115-9196-2dd87bc4e446",
   "metadata": {},
   "outputs": [
    {
     "data": {
      "text/plain": [
       "5413.651525817334"
      ]
     },
     "execution_count": 312,
     "metadata": {},
     "output_type": "execute_result"
    }
   ],
   "source": [
    "a"
   ]
  },
  {
   "cell_type": "markdown",
   "id": "9757fa62-2468-4509-bfe7-685ec86eaff3",
   "metadata": {},
   "source": [
    "## Atividade 2"
   ]
  },
  {
   "cell_type": "code",
   "execution_count": 313,
   "id": "76d60b18-0111-4f9e-a4b7-3235debc5c1e",
   "metadata": {},
   "outputs": [
    {
     "data": {
      "text/html": [
       "<div>\n",
       "<style scoped>\n",
       "    .dataframe tbody tr th:only-of-type {\n",
       "        vertical-align: middle;\n",
       "    }\n",
       "\n",
       "    .dataframe tbody tr th {\n",
       "        vertical-align: top;\n",
       "    }\n",
       "\n",
       "    .dataframe thead th {\n",
       "        text-align: right;\n",
       "    }\n",
       "</style>\n",
       "<table border=\"1\" class=\"dataframe\">\n",
       "  <thead>\n",
       "    <tr style=\"text-align: right;\">\n",
       "      <th></th>\n",
       "      <th>[L-Ala] (mM)</th>\n",
       "      <th>v1</th>\n",
       "      <th>v2</th>\n",
       "      <th>v3</th>\n",
       "      <th>v4</th>\n",
       "    </tr>\n",
       "  </thead>\n",
       "  <tbody>\n",
       "    <tr>\n",
       "      <th>0</th>\n",
       "      <td>500.0000</td>\n",
       "      <td>7106</td>\n",
       "      <td>6801</td>\n",
       "      <td>7479</td>\n",
       "      <td>6697</td>\n",
       "    </tr>\n",
       "    <tr>\n",
       "      <th>1</th>\n",
       "      <td>250.0000</td>\n",
       "      <td>5597</td>\n",
       "      <td>4881</td>\n",
       "      <td>5615</td>\n",
       "      <td>5016</td>\n",
       "    </tr>\n",
       "    <tr>\n",
       "      <th>2</th>\n",
       "      <td>125.0000</td>\n",
       "      <td>3556</td>\n",
       "      <td>3653</td>\n",
       "      <td>3898</td>\n",
       "      <td>3339</td>\n",
       "    </tr>\n",
       "    <tr>\n",
       "      <th>3</th>\n",
       "      <td>62.5000</td>\n",
       "      <td>2200</td>\n",
       "      <td>2110</td>\n",
       "      <td>2270</td>\n",
       "      <td>2223</td>\n",
       "    </tr>\n",
       "    <tr>\n",
       "      <th>4</th>\n",
       "      <td>31.2500</td>\n",
       "      <td>1240</td>\n",
       "      <td>1238</td>\n",
       "      <td>1263</td>\n",
       "      <td>1189</td>\n",
       "    </tr>\n",
       "    <tr>\n",
       "      <th>5</th>\n",
       "      <td>15.6250</td>\n",
       "      <td>550</td>\n",
       "      <td>627</td>\n",
       "      <td>666</td>\n",
       "      <td>578</td>\n",
       "    </tr>\n",
       "    <tr>\n",
       "      <th>6</th>\n",
       "      <td>7.8125</td>\n",
       "      <td>446</td>\n",
       "      <td>346</td>\n",
       "      <td>361</td>\n",
       "      <td>377</td>\n",
       "    </tr>\n",
       "    <tr>\n",
       "      <th>7</th>\n",
       "      <td>0.0000</td>\n",
       "      <td>137</td>\n",
       "      <td>108</td>\n",
       "      <td>144</td>\n",
       "      <td>99</td>\n",
       "    </tr>\n",
       "  </tbody>\n",
       "</table>\n",
       "</div>"
      ],
      "text/plain": [
       "   [L-Ala] (mM)    v1    v2    v3    v4\n",
       "0      500.0000  7106  6801  7479  6697\n",
       "1      250.0000  5597  4881  5615  5016\n",
       "2      125.0000  3556  3653  3898  3339\n",
       "3       62.5000  2200  2110  2270  2223\n",
       "4       31.2500  1240  1238  1263  1189\n",
       "5       15.6250   550   627   666   578\n",
       "6        7.8125   446   346   361   377\n",
       "7        0.0000   137   108   144    99"
      ]
     },
     "execution_count": 313,
     "metadata": {},
     "output_type": "execute_result"
    }
   ],
   "source": [
    "df_Km_Ala"
   ]
  },
  {
   "cell_type": "code",
   "execution_count": 314,
   "id": "35608a47-6c1b-42eb-90ab-006eda0973a2",
   "metadata": {},
   "outputs": [],
   "source": [
    "#df_styled = df_Km_Ala.style.background_gradient()\n",
    "#dfi.export(df_styled, \"df_Km_Ala_sem_mudancas.png\")"
   ]
  },
  {
   "cell_type": "code",
   "execution_count": 315,
   "id": "5ac973a1-2c5a-4b97-aa33-201bf1b81ce5",
   "metadata": {},
   "outputs": [],
   "source": [
    "df_Km_Ala[\"Média v\"] = (df_Km_Ala[\"v1\"] + df_Km_Ala[\"v2\"] + df_Km_Ala[\"v3\"] + df_Km_Ala[\"v4\"])/4\n",
    "df_Km_Ala[\"Média v\"] = df_Km_Ala[\"Média v\"] - df_Km_Ala.loc[7][\"Média v\"]\n",
    "df_Km_Ala = df_Km_Ala.drop(7)\n",
    "df_Km_Ala[\"inverso Média v\"] = 1/df_Km_Ala[\"Média v\"]\n",
    "df_Km_Ala[\"inverso [L-Ala] (mM)\"] = 1/df_Km_Ala[\"[L-Ala] (mM)\"]"
   ]
  },
  {
   "cell_type": "code",
   "execution_count": 316,
   "id": "4983ca8a-eef1-4cfe-b33b-d4b02ed05f4b",
   "metadata": {},
   "outputs": [
    {
     "data": {
      "text/html": [
       "<div>\n",
       "<style scoped>\n",
       "    .dataframe tbody tr th:only-of-type {\n",
       "        vertical-align: middle;\n",
       "    }\n",
       "\n",
       "    .dataframe tbody tr th {\n",
       "        vertical-align: top;\n",
       "    }\n",
       "\n",
       "    .dataframe thead th {\n",
       "        text-align: right;\n",
       "    }\n",
       "</style>\n",
       "<table border=\"1\" class=\"dataframe\">\n",
       "  <thead>\n",
       "    <tr style=\"text-align: right;\">\n",
       "      <th></th>\n",
       "      <th>[L-Ala] (mM)</th>\n",
       "      <th>v1</th>\n",
       "      <th>v2</th>\n",
       "      <th>v3</th>\n",
       "      <th>v4</th>\n",
       "      <th>Média v</th>\n",
       "      <th>inverso Média v</th>\n",
       "      <th>inverso [L-Ala] (mM)</th>\n",
       "    </tr>\n",
       "  </thead>\n",
       "  <tbody>\n",
       "    <tr>\n",
       "      <th>0</th>\n",
       "      <td>500.0000</td>\n",
       "      <td>7106</td>\n",
       "      <td>6801</td>\n",
       "      <td>7479</td>\n",
       "      <td>6697</td>\n",
       "      <td>6898.75</td>\n",
       "      <td>0.000145</td>\n",
       "      <td>0.002</td>\n",
       "    </tr>\n",
       "    <tr>\n",
       "      <th>1</th>\n",
       "      <td>250.0000</td>\n",
       "      <td>5597</td>\n",
       "      <td>4881</td>\n",
       "      <td>5615</td>\n",
       "      <td>5016</td>\n",
       "      <td>5155.25</td>\n",
       "      <td>0.000194</td>\n",
       "      <td>0.004</td>\n",
       "    </tr>\n",
       "    <tr>\n",
       "      <th>2</th>\n",
       "      <td>125.0000</td>\n",
       "      <td>3556</td>\n",
       "      <td>3653</td>\n",
       "      <td>3898</td>\n",
       "      <td>3339</td>\n",
       "      <td>3489.50</td>\n",
       "      <td>0.000287</td>\n",
       "      <td>0.008</td>\n",
       "    </tr>\n",
       "    <tr>\n",
       "      <th>3</th>\n",
       "      <td>62.5000</td>\n",
       "      <td>2200</td>\n",
       "      <td>2110</td>\n",
       "      <td>2270</td>\n",
       "      <td>2223</td>\n",
       "      <td>2078.75</td>\n",
       "      <td>0.000481</td>\n",
       "      <td>0.016</td>\n",
       "    </tr>\n",
       "    <tr>\n",
       "      <th>4</th>\n",
       "      <td>31.2500</td>\n",
       "      <td>1240</td>\n",
       "      <td>1238</td>\n",
       "      <td>1263</td>\n",
       "      <td>1189</td>\n",
       "      <td>1110.50</td>\n",
       "      <td>0.000900</td>\n",
       "      <td>0.032</td>\n",
       "    </tr>\n",
       "    <tr>\n",
       "      <th>5</th>\n",
       "      <td>15.6250</td>\n",
       "      <td>550</td>\n",
       "      <td>627</td>\n",
       "      <td>666</td>\n",
       "      <td>578</td>\n",
       "      <td>483.25</td>\n",
       "      <td>0.002069</td>\n",
       "      <td>0.064</td>\n",
       "    </tr>\n",
       "    <tr>\n",
       "      <th>6</th>\n",
       "      <td>7.8125</td>\n",
       "      <td>446</td>\n",
       "      <td>346</td>\n",
       "      <td>361</td>\n",
       "      <td>377</td>\n",
       "      <td>260.50</td>\n",
       "      <td>0.003839</td>\n",
       "      <td>0.128</td>\n",
       "    </tr>\n",
       "  </tbody>\n",
       "</table>\n",
       "</div>"
      ],
      "text/plain": [
       "   [L-Ala] (mM)    v1    v2    v3    v4  Média v  inverso Média v  \\\n",
       "0      500.0000  7106  6801  7479  6697  6898.75         0.000145   \n",
       "1      250.0000  5597  4881  5615  5016  5155.25         0.000194   \n",
       "2      125.0000  3556  3653  3898  3339  3489.50         0.000287   \n",
       "3       62.5000  2200  2110  2270  2223  2078.75         0.000481   \n",
       "4       31.2500  1240  1238  1263  1189  1110.50         0.000900   \n",
       "5       15.6250   550   627   666   578   483.25         0.002069   \n",
       "6        7.8125   446   346   361   377   260.50         0.003839   \n",
       "\n",
       "   inverso [L-Ala] (mM)  \n",
       "0                 0.002  \n",
       "1                 0.004  \n",
       "2                 0.008  \n",
       "3                 0.016  \n",
       "4                 0.032  \n",
       "5                 0.064  \n",
       "6                 0.128  "
      ]
     },
     "execution_count": 316,
     "metadata": {},
     "output_type": "execute_result"
    }
   ],
   "source": [
    "df_Km_Ala"
   ]
  },
  {
   "cell_type": "code",
   "execution_count": 317,
   "id": "f3e64f29-0bc4-4cd9-8ce6-c403395c211f",
   "metadata": {},
   "outputs": [],
   "source": [
    "df_styled = df_Km_Ala.style.background_gradient()\n",
    "dfi.export(df_styled, \"df_Km_Ala_com_mudancas.png\")"
   ]
  },
  {
   "cell_type": "code",
   "execution_count": 318,
   "id": "f0dfd8de-c721-45de-ab37-fe3e77a6d87f",
   "metadata": {},
   "outputs": [
    {
     "name": "stdout",
     "output_type": "stream",
     "text": [
      "coefficient of determination: 0.9975279751813496\n",
      "intercept: 4.8944016971864e-05\n",
      "slope: [0.02981317]\n"
     ]
    }
   ],
   "source": [
    "x = np.array(list(df_Km_Ala[\"inverso [L-Ala] (mM)\"])).reshape((-1, 1))\n",
    "y = np.array(list(df_Km_Ala[\"inverso Média v\"]))\n",
    "\n",
    "model = LinearRegression()\n",
    "\n",
    "model.fit(x, y)\n",
    "\n",
    "model = LinearRegression().fit(x, y)\n",
    "\n",
    "r_sq = model.score(x, y)\n",
    "print(f\"coefficient of determination: {r_sq}\")\n",
    "\n",
    "print(f\"intercept: {model.intercept_}\")\n",
    "\n",
    "print(f\"slope: {model.coef_}\")\n",
    "\n",
    "a = model.coef_[0]\n",
    "\n",
    "b = model.intercept_\n",
    "\n",
    "V_max = 1/b\n",
    "\n",
    "K = V_max*a"
   ]
  },
  {
   "cell_type": "code",
   "execution_count": 319,
   "id": "2f80aa52-f452-496f-9da3-d591f91c7b42",
   "metadata": {},
   "outputs": [
    {
     "data": {
      "image/png": "[encoded data removed]",
      "text/plain": [
       "<Figure size 432x288 with 1 Axes>"
      ]
     },
     "metadata": {
      "needs_background": "light"
     },
     "output_type": "display_data"
    }
   ],
   "source": [
    "def inv_v(inv_Ala):\n",
    "    return b + a*inv_Ala\n",
    "\n",
    "inv_Ala = np.linspace(0, 0.128, 100)\n",
    "\n",
    "fig1 = plt.figure()\n",
    "ax1 = fig1.add_subplot(111)\n",
    "plt.plot(inv_Ala, inv_v(inv_Ala), color='black')\n",
    "df_Km_Ala.plot('inverso [L-Ala] (mM)','inverso Média v',legend=True, ax=ax1, kind = 'scatter', linewidth = 2.5, color = 'blue')\n",
    "plt.xlabel('1/[L-Ala] (mM)')\n",
    "plt.ylabel('1/v')\n",
    "plt.savefig('reg_aanc.png', dpi=100, format='png', facecolor='white')\n",
    "plt.show()"
   ]
  },
  {
   "cell_type": "code",
   "execution_count": 320,
   "id": "0023f9bc-352b-4a14-8d02-6d65cf8a37bc",
   "metadata": {},
   "outputs": [
    {
     "name": "stdout",
     "output_type": "stream",
     "text": [
      "20431.506481678054 609.1278964111681\n"
     ]
    }
   ],
   "source": [
    "print(V_max, K)"
   ]
  },
  {
   "cell_type": "code",
   "execution_count": 321,
   "id": "8578f004-7eb2-4b80-acaf-81ff872d533a",
   "metadata": {},
   "outputs": [
    {
     "data": {
      "image/png": "[encoded data removed]",
      "text/plain": [
       "<Figure size 432x288 with 1 Axes>"
      ]
     },
     "metadata": {
      "needs_background": "light"
     },
     "output_type": "display_data"
    }
   ],
   "source": [
    "def v(Ala):\n",
    "    return V_max*Ala/(K + Ala)\n",
    "\n",
    "Ala = np.linspace(0, 500, 500)\n",
    "\n",
    "fig1 = plt.figure()\n",
    "ax1 = fig1.add_subplot(111)\n",
    "plt.plot(Ala, v(Ala), color='black')\n",
    "df_Km_Ala.plot('[L-Ala] (mM)','Média v',legend=True, ax=ax1, kind = 'scatter', linewidth = 2.5, color = 'blue')\n",
    "plt.xlabel('[L-Ala] (mM)')\n",
    "plt.ylabel('v')\n",
    "plt.savefig('mod_aanc_dados.png', dpi=100, format='png', facecolor='white')\n",
    "plt.show()"
   ]
  },
  {
   "cell_type": "code",
   "execution_count": 322,
   "id": "94d6b1e9-ca1e-497b-9f49-811f1e428f28",
   "metadata": {},
   "outputs": [],
   "source": [
    "def v_2(Ala, V_max_2, K_m_2):\n",
    "    return V_max_2*(Ala)/(K_m_2 + Ala)"
   ]
  },
  {
   "cell_type": "code",
   "execution_count": 323,
   "id": "91ff795f-51c8-4eee-a580-bc0d1fc40e1a",
   "metadata": {},
   "outputs": [
    {
     "name": "stdout",
     "output_type": "stream",
     "text": [
      "Variável independente: ['ATP']\n",
      "Parâmetros do modelo: ['V_max_2', 'K_prime', 'h']\n"
     ]
    }
   ],
   "source": [
    "modelo_Ala = Model(v_2)\n",
    "\n",
    "print(f'Variável independente: {modelo_ATP.independent_vars}')\n",
    "print(f'Parâmetros do modelo: {modelo_ATP.param_names}')"
   ]
  },
  {
   "cell_type": "code",
   "execution_count": 324,
   "id": "30e8773f-5f60-48a8-8af0-e511741963c9",
   "metadata": {},
   "outputs": [],
   "source": [
    "params = modelo_Ala.make_params(V_max_2=7000, K_m_2 = 125)"
   ]
  },
  {
   "cell_type": "code",
   "execution_count": 325,
   "id": "91964f66-19a5-4bf9-98b5-dcb21da4fdc3",
   "metadata": {},
   "outputs": [
    {
     "name": "stdout",
     "output_type": "stream",
     "text": [
      "[[Model]]\n",
      "    Model(v_2)\n",
      "[[Fit Statistics]]\n",
      "    # fitting method   = leastsq\n",
      "    # function evals   = 16\n",
      "    # data points      = 7\n",
      "    # variables        = 2\n",
      "    chi-square         = 21565.9931\n",
      "    reduced chi-square = 4313.19862\n",
      "    Akaike info crit   = 60.2307397\n",
      "    Bayesian info crit = 60.1225600\n",
      "[[Variables]]\n",
      "    V_max_2:  10412.6628 +/- 226.376188 (2.17%) (init = 7000)\n",
      "    K_m_2:    253.878820 +/- 11.3876366 (4.49%) (init = 125)\n",
      "[[Correlations]] (unreported correlations are < 0.100)\n",
      "    C(V_max_2, K_m_2) =  0.949\n"
     ]
    }
   ],
   "source": [
    "resultado_fit = modelo_Ala.fit(df_Km_Ala[\"Média v\"], params, Ala=df_Km_Ala[\"[L-Ala] (mM)\"])\n",
    "print(resultado_fit.fit_report())"
   ]
  },
  {
   "cell_type": "code",
   "execution_count": 326,
   "id": "a0ba493f-1768-4c59-8155-f08b4a0070b8",
   "metadata": {},
   "outputs": [
    {
     "data": {
      "image/png": "[encoded data removed]",
      "text/plain": [
       "<Figure size 432x288 with 1 Axes>"
      ]
     },
     "metadata": {
      "needs_background": "light"
     },
     "output_type": "display_data"
    }
   ],
   "source": [
    "plt.plot(df_Km_Ala[\"[L-Ala] (mM)\"], df_Km_Ala[\"Média v\"], 'o')\n",
    "plt.plot(df_Km_Ala[\"[L-Ala] (mM)\"], resultado_fit.init_fit, '--', label='Palpite inicial')\n",
    "plt.plot(df_Km_Ala[\"[L-Ala] (mM)\"], resultado_fit.best_fit, '-', label='Melhor ajuste encontrado')\n",
    "plt.legend()\n",
    "#plt.ylim(0, 1000)\n",
    "#plt.yscale('log')\n",
    "plt.show()"
   ]
  },
  {
   "cell_type": "code",
   "execution_count": 327,
   "id": "cae5353b-ae89-4882-98db-3db1d1f3da3b",
   "metadata": {},
   "outputs": [
    {
     "data": {
      "image/png": "[encoded data removed]",
      "text/plain": [
       "<Figure size 432x432 with 2 Axes>"
      ]
     },
     "metadata": {
      "needs_background": "light"
     },
     "output_type": "display_data"
    }
   ],
   "source": [
    "resultado_fit.plot()\n",
    "#plt.savefig('aanc_lmfit.png', dpi=100, format='png', facecolor='white')\n",
    "plt.show()"
   ]
  },
  {
   "cell_type": "code",
   "execution_count": 328,
   "id": "23db5fef-de22-4636-ad99-bfde51a0d53f",
   "metadata": {},
   "outputs": [
    {
     "data": {
      "image/png": "[encoded data removed]",
      "text/plain": [
       "<Figure size 432x288 with 1 Axes>"
      ]
     },
     "metadata": {
      "needs_background": "light"
     },
     "output_type": "display_data"
    }
   ],
   "source": [
    "V_max = 10412.66\n",
    "K = 253.87\n",
    "\n",
    "def v(Ala):\n",
    "    return V_max*Ala/(K + Ala)\n",
    "\n",
    "Ala = np.linspace(0, 500, 500)\n",
    "\n",
    "fig1 = plt.figure()\n",
    "ax1 = fig1.add_subplot(111)\n",
    "plt.plot(Ala, v(Ala), color='black')\n",
    "df_Km_Ala.plot('[L-Ala] (mM)','Média v',legend=True, ax=ax1, kind = 'scatter', linewidth = 2.5, color = 'blue')\n",
    "plt.xlabel('[L-Ala] (mM)')\n",
    "plt.ylabel('v')\n",
    "plt.savefig('aanc_lmfit.png', dpi=100, format='png', facecolor='white')\n",
    "plt.show()"
   ]
  },
  {
   "cell_type": "markdown",
   "id": "bf7d5fa5-aed3-4f39-b330-08401c6ffb0f",
   "metadata": {},
   "source": [
    "## Atividade 3"
   ]
  },
  {
   "cell_type": "code",
   "execution_count": 329,
   "id": "afb96320-6d8d-4e70-8d34-3aa6d92f32c1",
   "metadata": {},
   "outputs": [],
   "source": [
    "df_ATP[\"Média v\"] = (df_ATP[\"v1\"] + df_ATP[\"v2\"] + df_ATP[\"v3\"] + df_ATP[\"v4\"])/4\n",
    "df_ATP[\"Média v\"] = df_ATP[\"Média v\"] - df_ATP[\"Blank\"]"
   ]
  },
  {
   "cell_type": "code",
   "execution_count": 330,
   "id": "6c2e2ea5-da74-4095-8d29-04e21bff425f",
   "metadata": {},
   "outputs": [],
   "source": [
    "df_styled = df_ATP.style.background_gradient()\n",
    "dfi.export(df_styled, \"df_ATP.png\")"
   ]
  },
  {
   "cell_type": "code",
   "execution_count": 294,
   "id": "388ce689-e737-4645-ac18-c08583635244",
   "metadata": {},
   "outputs": [],
   "source": [
    "def v_2(ATP, V_max_2, K_prime, h):\n",
    "    return V_max_2*(ATP**h)/(K_prime + ATP**h)"
   ]
  },
  {
   "cell_type": "code",
   "execution_count": 295,
   "id": "e7cf40f4-1d2f-4bb5-b8a6-1c465ce0055f",
   "metadata": {},
   "outputs": [
    {
     "name": "stdout",
     "output_type": "stream",
     "text": [
      "Variável independente: ['ATP']\n",
      "Parâmetros do modelo: ['V_max_2', 'K_prime', 'h']\n"
     ]
    }
   ],
   "source": [
    "modelo_ATP = Model(v_2)\n",
    "\n",
    "print(f'Variável independente: {modelo_ATP.independent_vars}')\n",
    "print(f'Parâmetros do modelo: {modelo_ATP.param_names}')"
   ]
  },
  {
   "cell_type": "code",
   "execution_count": 296,
   "id": "470189ce-5dd6-4d34-8bbb-748629708b93",
   "metadata": {},
   "outputs": [],
   "source": [
    "params = modelo_ATP.make_params(V_max_2=5000, K_prime = 1, h = 1.1)"
   ]
  },
  {
   "cell_type": "code",
   "execution_count": 297,
   "id": "f4b5ce05-7034-45bf-aa1a-673acb565647",
   "metadata": {},
   "outputs": [
    {
     "name": "stdout",
     "output_type": "stream",
     "text": [
      "[[Model]]\n",
      "    Model(v_2)\n",
      "[[Fit Statistics]]\n",
      "    # fitting method   = leastsq\n",
      "    # function evals   = 43\n",
      "    # data points      = 8\n",
      "    # variables        = 3\n",
      "    chi-square         = 100519.894\n",
      "    reduced chi-square = 20103.9788\n",
      "    Akaike info crit   = 81.5093551\n",
      "    Bayesian info crit = 81.7476798\n",
      "[[Variables]]\n",
      "    V_max_2:  4911.27214 +/- 124.140134 (2.53%) (init = 5000)\n",
      "    K_prime:  0.04665705 +/- 0.01708128 (36.61%) (init = 1)\n",
      "    h:        3.18772021 +/- 0.32312538 (10.14%) (init = 1.1)\n",
      "[[Correlations]] (unreported correlations are < 0.100)\n",
      "    C(K_prime, h)       = -0.938\n",
      "    C(V_max_2, K_prime) =  0.628\n",
      "    C(V_max_2, h)       = -0.497\n"
     ]
    }
   ],
   "source": [
    "resultado_fit = modelo_ATP.fit(df_ATP[\"Média v\"], params, ATP=df_ATP[\"[ATP] (mM)\"])\n",
    "print(resultado_fit.fit_report())"
   ]
  },
  {
   "cell_type": "code",
   "execution_count": 298,
   "id": "4f311d2c-2974-4db1-a9e8-0a9c252967ba",
   "metadata": {},
   "outputs": [
    {
     "data": {
      "image/png": "[encoded data removed]",
      "text/plain": [
       "<Figure size 432x288 with 1 Axes>"
      ]
     },
     "metadata": {
      "needs_background": "light"
     },
     "output_type": "display_data"
    }
   ],
   "source": [
    "plt.plot(df_ATP[\"[ATP] (mM)\"], df_ATP[\"Média v\"], 'o')\n",
    "plt.plot(df_ATP[\"[ATP] (mM)\"], resultado_fit.init_fit, '--', label='Palpite inicial')\n",
    "plt.plot(df_ATP[\"[ATP] (mM)\"], resultado_fit.best_fit, '-', label='Melhor ajuste encontrado')\n",
    "plt.legend()\n",
    "#plt.ylim(0, 1000)\n",
    "#plt.yscale('log')\n",
    "plt.show()"
   ]
  },
  {
   "cell_type": "code",
   "execution_count": 299,
   "id": "26056a96-9e8d-4c5b-9dd7-7b34c11880ab",
   "metadata": {},
   "outputs": [
    {
     "data": {
      "image/png": "[encoded data removed]",
      "text/plain": [
       "<Figure size 432x432 with 2 Axes>"
      ]
     },
     "metadata": {
      "needs_background": "light"
     },
     "output_type": "display_data"
    }
   ],
   "source": [
    "resultado_fit.plot()\n",
    "plt.savefig('Modelo da reação enzimática.png', dpi=100, format='png', facecolor='white')\n",
    "plt.show()"
   ]
  },
  {
   "cell_type": "code",
   "execution_count": 331,
   "id": "07d7f3e8-9b18-4141-8c02-213871714124",
   "metadata": {},
   "outputs": [
    {
     "data": {
      "image/png": "[encoded data removed]",
      "text/plain": [
       "<Figure size 432x288 with 1 Axes>"
      ]
     },
     "metadata": {
      "needs_background": "light"
     },
     "output_type": "display_data"
    }
   ],
   "source": [
    "V_max = 4911.27\n",
    "K = 0.046\n",
    "h = 3.18\n",
    "\n",
    "def v(ATP):\n",
    "    return V_max*(ATP**h)/(K + (ATP**h))\n",
    "\n",
    "ATP = np.linspace(0, 2, 500)\n",
    "\n",
    "fig1 = plt.figure()\n",
    "ax1 = fig1.add_subplot(111)\n",
    "plt.plot(ATP, v(ATP), color='black')\n",
    "df_ATP.plot('[ATP] (mM)',\"Média v\",legend=True, ax=ax1, kind = 'scatter', linewidth = 2.5, color = 'blue')\n",
    "plt.xlabel('[ATP] (mM)')\n",
    "plt.ylabel('v')\n",
    "plt.savefig('ATP_lmfit.png', dpi=100, format='png', facecolor='white')\n",
    "plt.show()"
   ]
  },
  {
   "cell_type": "code",
   "execution_count": null,
   "id": "716ba3bc-8d07-495a-8a92-111c0dba0de1",
   "metadata": {},
   "outputs": [],
   "source": []
  }
 ],
 "metadata": {
  "kernelspec": {
   "display_name": "ilumpy",
   "language": "python",
   "name": "ilumpy"
  },
  "language_info": {
   "codemirror_mode": {
    "name": "ipython",
    "version": 3
   },
   "file_extension": ".py",
   "mimetype": "text/x-python",
   "name": "python",
   "nbconvert_exporter": "python",
   "pygments_lexer": "ipython3",
   "version": "3.9.7"
  }
 },
 "nbformat": 4,
 "nbformat_minor": 5
}
